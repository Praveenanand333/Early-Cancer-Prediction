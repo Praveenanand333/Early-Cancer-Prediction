{
 "cells": [
  {
   "cell_type": "markdown",
   "metadata": {},
   "source": [
    "FOR ORAL CANCER PREDICTION\n"
   ]
  },
  {
   "cell_type": "code",
   "execution_count": 1,
   "metadata": {},
   "outputs": [],
   "source": [
    "import glob\n",
    "import numpy as np\n",
    "from PIL import Image\n",
    "from numpy import array\n",
    "from keras.preprocessing import image\n",
    "from sklearn.preprocessing import StandardScaler\n",
    "from sklearn.model_selection import train_test_split\n",
    "from sklearn.metrics import classification_report, f1_score, recall_score, precision_score"
   ]
  },
  {
   "cell_type": "code",
   "execution_count": 2,
   "metadata": {},
   "outputs": [],
   "source": [
    "cancer_imgs = glob.glob('../Dataset/OralCancer/cancer' + '/*.jpg')\n",
    "non_cancer_imgs = glob.glob('../Dataset/OralCancer/non-cancer/' + '/*.jpg')"
   ]
  },
  {
   "cell_type": "code",
   "execution_count": 3,
   "metadata": {},
   "outputs": [],
   "source": [
    "dataset = []\n",
    "labels = []\n",
    "\n",
    "for img in cancer_imgs:\n",
    "  dataset.append(image.img_to_array(image.load_img(img, target_size=(64, 64))))\n",
    "  labels.append(1)\n",
    "\n",
    "for img in non_cancer_imgs:\n",
    "  dataset.append(image.img_to_array(image.load_img(img, target_size=(64, 64))))\n",
    "  labels.append(0)\n",
    "  \n",
    "dataset = array(dataset)"
   ]
  },
  {
   "cell_type": "code",
   "execution_count": null,
   "metadata": {},
   "outputs": [],
   "source": [
    "import matplotlib.image as mpimg \n",
    "import matplotlib.pyplot as plt\n",
    "from matplotlib.pyplot import imshow\n",
    "%matplotlib inline\n",
    "\n",
    "\n",
    "print('Cancer Images: ')\n",
    "for img in cancer_imgs[:3]:\n",
    "  testim = mpimg.imread(img)\n",
    "  plt.figure()\n",
    "  imshow(testim)"
   ]
  },
  {
   "cell_type": "code",
   "execution_count": 6,
   "metadata": {},
   "outputs": [],
   "source": [
    "def evaluate_model(clf, X_test, y_test, model_name):\n",
    "  print('--------------------------------------------')\n",
    "  print('Model ', model_name)\n",
    "  y_pred = clf.predict(X_test)\n",
    "  f1 = f1_score(y_test, y_pred.round(), average='weighted')\n",
    "  recall = recall_score(y_test, y_pred.round(), average='weighted')\n",
    "  precision = precision_score(y_test, y_pred.round(), average='weighted')\n",
    "  print(classification_report(y_test, y_pred.round()))\n",
    "  print(\"F1 Score \", f1)\n",
    "  print(\"Recall \", recall)\n",
    "  print(\"Precision \", precision)"
   ]
  },
  {
   "cell_type": "code",
   "execution_count": 9,
   "metadata": {},
   "outputs": [],
   "source": [
    "X_train, X_test, y_train, y_test = train_test_split(dataset, labels, test_size=0.25, random_state=42)\n",
    "X_train = X_train.reshape(len(X_train),3*64*64)\n",
    "X_test = X_test.reshape(len(X_test),3*64*64)"
   ]
  },
  {
   "cell_type": "code",
   "execution_count": 10,
   "metadata": {},
   "outputs": [],
   "source": [
    "from sklearn import tree\n",
    "oc_clf_tree = tree.DecisionTreeClassifier(random_state=42)\n",
    "oc_clf_tree = oc_clf_tree.fit(X_train, y_train)"
   ]
  },
  {
   "cell_type": "code",
   "execution_count": 14,
   "metadata": {},
   "outputs": [
    {
     "data": {
      "text/html": [
       "<style>#sk-container-id-4 {color: black;}#sk-container-id-4 pre{padding: 0;}#sk-container-id-4 div.sk-toggleable {background-color: white;}#sk-container-id-4 label.sk-toggleable__label {cursor: pointer;display: block;width: 100%;margin-bottom: 0;padding: 0.3em;box-sizing: border-box;text-align: center;}#sk-container-id-4 label.sk-toggleable__label-arrow:before {content: \"▸\";float: left;margin-right: 0.25em;color: #696969;}#sk-container-id-4 label.sk-toggleable__label-arrow:hover:before {color: black;}#sk-container-id-4 div.sk-estimator:hover label.sk-toggleable__label-arrow:before {color: black;}#sk-container-id-4 div.sk-toggleable__content {max-height: 0;max-width: 0;overflow: hidden;text-align: left;background-color: #f0f8ff;}#sk-container-id-4 div.sk-toggleable__content pre {margin: 0.2em;color: black;border-radius: 0.25em;background-color: #f0f8ff;}#sk-container-id-4 input.sk-toggleable__control:checked~div.sk-toggleable__content {max-height: 200px;max-width: 100%;overflow: auto;}#sk-container-id-4 input.sk-toggleable__control:checked~label.sk-toggleable__label-arrow:before {content: \"▾\";}#sk-container-id-4 div.sk-estimator input.sk-toggleable__control:checked~label.sk-toggleable__label {background-color: #d4ebff;}#sk-container-id-4 div.sk-label input.sk-toggleable__control:checked~label.sk-toggleable__label {background-color: #d4ebff;}#sk-container-id-4 input.sk-hidden--visually {border: 0;clip: rect(1px 1px 1px 1px);clip: rect(1px, 1px, 1px, 1px);height: 1px;margin: -1px;overflow: hidden;padding: 0;position: absolute;width: 1px;}#sk-container-id-4 div.sk-estimator {font-family: monospace;background-color: #f0f8ff;border: 1px dotted black;border-radius: 0.25em;box-sizing: border-box;margin-bottom: 0.5em;}#sk-container-id-4 div.sk-estimator:hover {background-color: #d4ebff;}#sk-container-id-4 div.sk-parallel-item::after {content: \"\";width: 100%;border-bottom: 1px solid gray;flex-grow: 1;}#sk-container-id-4 div.sk-label:hover label.sk-toggleable__label {background-color: #d4ebff;}#sk-container-id-4 div.sk-serial::before {content: \"\";position: absolute;border-left: 1px solid gray;box-sizing: border-box;top: 0;bottom: 0;left: 50%;z-index: 0;}#sk-container-id-4 div.sk-serial {display: flex;flex-direction: column;align-items: center;background-color: white;padding-right: 0.2em;padding-left: 0.2em;position: relative;}#sk-container-id-4 div.sk-item {position: relative;z-index: 1;}#sk-container-id-4 div.sk-parallel {display: flex;align-items: stretch;justify-content: center;background-color: white;position: relative;}#sk-container-id-4 div.sk-item::before, #sk-container-id-4 div.sk-parallel-item::before {content: \"\";position: absolute;border-left: 1px solid gray;box-sizing: border-box;top: 0;bottom: 0;left: 50%;z-index: -1;}#sk-container-id-4 div.sk-parallel-item {display: flex;flex-direction: column;z-index: 1;position: relative;background-color: white;}#sk-container-id-4 div.sk-parallel-item:first-child::after {align-self: flex-end;width: 50%;}#sk-container-id-4 div.sk-parallel-item:last-child::after {align-self: flex-start;width: 50%;}#sk-container-id-4 div.sk-parallel-item:only-child::after {width: 0;}#sk-container-id-4 div.sk-dashed-wrapped {border: 1px dashed gray;margin: 0 0.4em 0.5em 0.4em;box-sizing: border-box;padding-bottom: 0.4em;background-color: white;}#sk-container-id-4 div.sk-label label {font-family: monospace;font-weight: bold;display: inline-block;line-height: 1.2em;}#sk-container-id-4 div.sk-label-container {text-align: center;}#sk-container-id-4 div.sk-container {/* jupyter's `normalize.less` sets `[hidden] { display: none; }` but bootstrap.min.css set `[hidden] { display: none !important; }` so we also need the `!important` here to be able to override the default hidden behavior on the sphinx rendered scikit-learn.org. See: https://github.com/scikit-learn/scikit-learn/issues/21755 */display: inline-block !important;position: relative;}#sk-container-id-4 div.sk-text-repr-fallback {display: none;}</style><div id=\"sk-container-id-4\" class=\"sk-top-container\"><div class=\"sk-text-repr-fallback\"><pre>RandomForestClassifier(criterion=&#x27;entropy&#x27;, n_estimators=2000, random_state=0)</pre><b>In a Jupyter environment, please rerun this cell to show the HTML representation or trust the notebook. <br />On GitHub, the HTML representation is unable to render, please try loading this page with nbviewer.org.</b></div><div class=\"sk-container\" hidden><div class=\"sk-item\"><div class=\"sk-estimator sk-toggleable\"><input class=\"sk-toggleable__control sk-hidden--visually\" id=\"sk-estimator-id-4\" type=\"checkbox\" checked><label for=\"sk-estimator-id-4\" class=\"sk-toggleable__label sk-toggleable__label-arrow\">RandomForestClassifier</label><div class=\"sk-toggleable__content\"><pre>RandomForestClassifier(criterion=&#x27;entropy&#x27;, n_estimators=2000, random_state=0)</pre></div></div></div></div></div>"
      ],
      "text/plain": [
       "RandomForestClassifier(criterion='entropy', n_estimators=2000, random_state=0)"
      ]
     },
     "execution_count": 14,
     "metadata": {},
     "output_type": "execute_result"
    }
   ],
   "source": [
    "from sklearn.ensemble import RandomForestClassifier\n",
    "sc = StandardScaler()\n",
    "X2_train = sc.fit_transform(X_train)\n",
    "X2_test = sc.transform(X_test)\n",
    "oc_rf = RandomForestClassifier(n_estimators=2000,criterion='entropy', random_state=0)\n",
    "oc_rf.fit(X2_train, y_train)"
   ]
  },
  {
   "cell_type": "code",
   "execution_count": 15,
   "metadata": {},
   "outputs": [
    {
     "data": {
      "text/html": [
       "<style>#sk-container-id-5 {color: black;}#sk-container-id-5 pre{padding: 0;}#sk-container-id-5 div.sk-toggleable {background-color: white;}#sk-container-id-5 label.sk-toggleable__label {cursor: pointer;display: block;width: 100%;margin-bottom: 0;padding: 0.3em;box-sizing: border-box;text-align: center;}#sk-container-id-5 label.sk-toggleable__label-arrow:before {content: \"▸\";float: left;margin-right: 0.25em;color: #696969;}#sk-container-id-5 label.sk-toggleable__label-arrow:hover:before {color: black;}#sk-container-id-5 div.sk-estimator:hover label.sk-toggleable__label-arrow:before {color: black;}#sk-container-id-5 div.sk-toggleable__content {max-height: 0;max-width: 0;overflow: hidden;text-align: left;background-color: #f0f8ff;}#sk-container-id-5 div.sk-toggleable__content pre {margin: 0.2em;color: black;border-radius: 0.25em;background-color: #f0f8ff;}#sk-container-id-5 input.sk-toggleable__control:checked~div.sk-toggleable__content {max-height: 200px;max-width: 100%;overflow: auto;}#sk-container-id-5 input.sk-toggleable__control:checked~label.sk-toggleable__label-arrow:before {content: \"▾\";}#sk-container-id-5 div.sk-estimator input.sk-toggleable__control:checked~label.sk-toggleable__label {background-color: #d4ebff;}#sk-container-id-5 div.sk-label input.sk-toggleable__control:checked~label.sk-toggleable__label {background-color: #d4ebff;}#sk-container-id-5 input.sk-hidden--visually {border: 0;clip: rect(1px 1px 1px 1px);clip: rect(1px, 1px, 1px, 1px);height: 1px;margin: -1px;overflow: hidden;padding: 0;position: absolute;width: 1px;}#sk-container-id-5 div.sk-estimator {font-family: monospace;background-color: #f0f8ff;border: 1px dotted black;border-radius: 0.25em;box-sizing: border-box;margin-bottom: 0.5em;}#sk-container-id-5 div.sk-estimator:hover {background-color: #d4ebff;}#sk-container-id-5 div.sk-parallel-item::after {content: \"\";width: 100%;border-bottom: 1px solid gray;flex-grow: 1;}#sk-container-id-5 div.sk-label:hover label.sk-toggleable__label {background-color: #d4ebff;}#sk-container-id-5 div.sk-serial::before {content: \"\";position: absolute;border-left: 1px solid gray;box-sizing: border-box;top: 0;bottom: 0;left: 50%;z-index: 0;}#sk-container-id-5 div.sk-serial {display: flex;flex-direction: column;align-items: center;background-color: white;padding-right: 0.2em;padding-left: 0.2em;position: relative;}#sk-container-id-5 div.sk-item {position: relative;z-index: 1;}#sk-container-id-5 div.sk-parallel {display: flex;align-items: stretch;justify-content: center;background-color: white;position: relative;}#sk-container-id-5 div.sk-item::before, #sk-container-id-5 div.sk-parallel-item::before {content: \"\";position: absolute;border-left: 1px solid gray;box-sizing: border-box;top: 0;bottom: 0;left: 50%;z-index: -1;}#sk-container-id-5 div.sk-parallel-item {display: flex;flex-direction: column;z-index: 1;position: relative;background-color: white;}#sk-container-id-5 div.sk-parallel-item:first-child::after {align-self: flex-end;width: 50%;}#sk-container-id-5 div.sk-parallel-item:last-child::after {align-self: flex-start;width: 50%;}#sk-container-id-5 div.sk-parallel-item:only-child::after {width: 0;}#sk-container-id-5 div.sk-dashed-wrapped {border: 1px dashed gray;margin: 0 0.4em 0.5em 0.4em;box-sizing: border-box;padding-bottom: 0.4em;background-color: white;}#sk-container-id-5 div.sk-label label {font-family: monospace;font-weight: bold;display: inline-block;line-height: 1.2em;}#sk-container-id-5 div.sk-label-container {text-align: center;}#sk-container-id-5 div.sk-container {/* jupyter's `normalize.less` sets `[hidden] { display: none; }` but bootstrap.min.css set `[hidden] { display: none !important; }` so we also need the `!important` here to be able to override the default hidden behavior on the sphinx rendered scikit-learn.org. See: https://github.com/scikit-learn/scikit-learn/issues/21755 */display: inline-block !important;position: relative;}#sk-container-id-5 div.sk-text-repr-fallback {display: none;}</style><div id=\"sk-container-id-5\" class=\"sk-top-container\"><div class=\"sk-text-repr-fallback\"><pre>SVC(kernel=&#x27;linear&#x27;)</pre><b>In a Jupyter environment, please rerun this cell to show the HTML representation or trust the notebook. <br />On GitHub, the HTML representation is unable to render, please try loading this page with nbviewer.org.</b></div><div class=\"sk-container\" hidden><div class=\"sk-item\"><div class=\"sk-estimator sk-toggleable\"><input class=\"sk-toggleable__control sk-hidden--visually\" id=\"sk-estimator-id-5\" type=\"checkbox\" checked><label for=\"sk-estimator-id-5\" class=\"sk-toggleable__label sk-toggleable__label-arrow\">SVC</label><div class=\"sk-toggleable__content\"><pre>SVC(kernel=&#x27;linear&#x27;)</pre></div></div></div></div></div>"
      ],
      "text/plain": [
       "SVC(kernel='linear')"
      ]
     },
     "execution_count": 15,
     "metadata": {},
     "output_type": "execute_result"
    }
   ],
   "source": [
    "from sklearn import svm\n",
    "oc_svm = svm.SVC(kernel='linear') # Linear Kernel\n",
    "oc_svm.fit(X_train, y_train)"
   ]
  },
  {
   "cell_type": "code",
   "execution_count": 18,
   "metadata": {},
   "outputs": [
    {
     "name": "stdout",
     "output_type": "stream",
     "text": [
      "--------------------------------------------\n",
      "Model  Decision Tree\n",
      "              precision    recall  f1-score   support\n",
      "\n",
      "           0       0.62      0.56      0.59         9\n",
      "           1       0.76      0.81      0.79        16\n",
      "\n",
      "    accuracy                           0.72        25\n",
      "   macro avg       0.69      0.68      0.69        25\n",
      "weighted avg       0.71      0.72      0.72        25\n",
      "\n",
      "F1 Score  0.7160071301247772\n",
      "Recall  0.72\n",
      "Precision  0.7144117647058823\n"
     ]
    }
   ],
   "source": [
    "evaluate_model(oc_clf_tree, X_test, y_test, 'Decision Tree')\n"
   ]
  },
  {
   "cell_type": "code",
   "execution_count": 19,
   "metadata": {},
   "outputs": [
    {
     "name": "stdout",
     "output_type": "stream",
     "text": [
      "--------------------------------------------\n",
      "Model  RandomForest\n",
      "              precision    recall  f1-score   support\n",
      "\n",
      "           0       0.80      0.89      0.84         9\n",
      "           1       0.93      0.88      0.90        16\n",
      "\n",
      "    accuracy                           0.88        25\n",
      "   macro avg       0.87      0.88      0.87        25\n",
      "weighted avg       0.89      0.88      0.88        25\n",
      "\n",
      "F1 Score  0.8812224108658744\n",
      "Recall  0.88\n",
      "Precision  0.8853333333333333\n"
     ]
    }
   ],
   "source": [
    "evaluate_model(oc_rf, X2_test, y_test, 'RandomForest')\n"
   ]
  },
  {
   "cell_type": "code",
   "execution_count": 20,
   "metadata": {},
   "outputs": [
    {
     "name": "stdout",
     "output_type": "stream",
     "text": [
      "--------------------------------------------\n",
      "Model  SVM\n",
      "              precision    recall  f1-score   support\n",
      "\n",
      "           0       0.64      0.78      0.70         9\n",
      "           1       0.86      0.75      0.80        16\n",
      "\n",
      "    accuracy                           0.76        25\n",
      "   macro avg       0.75      0.76      0.75        25\n",
      "weighted avg       0.78      0.76      0.76        25\n",
      "\n",
      "F1 Score  0.764\n",
      "Recall  0.76\n",
      "Precision  0.7776623376623377\n"
     ]
    }
   ],
   "source": [
    "evaluate_model(oc_svm, X_test, y_test, 'SVM')"
   ]
  },
  {
   "cell_type": "code",
   "execution_count": 32,
   "metadata": {},
   "outputs": [
    {
     "name": "stdout",
     "output_type": "stream",
     "text": [
      "Epoch 1/30\n",
      "3/3 [==============================] - 2s 319ms/step - loss: 0.6904 - accuracy: 0.5000 - val_loss: 0.6777 - val_accuracy: 0.6333\n",
      "Epoch 2/30\n",
      "3/3 [==============================] - 1s 156ms/step - loss: 0.6776 - accuracy: 0.6143 - val_loss: 0.6664 - val_accuracy: 0.6333\n",
      "Epoch 3/30\n",
      "3/3 [==============================] - 0s 155ms/step - loss: 0.6722 - accuracy: 0.6143 - val_loss: 0.6596 - val_accuracy: 0.6333\n",
      "Epoch 4/30\n",
      "3/3 [==============================] - 0s 154ms/step - loss: 0.6679 - accuracy: 0.6143 - val_loss: 0.6572 - val_accuracy: 0.6333\n",
      "Epoch 5/30\n",
      "3/3 [==============================] - 0s 164ms/step - loss: 0.6689 - accuracy: 0.6143 - val_loss: 0.6574 - val_accuracy: 0.6333\n",
      "Epoch 6/30\n",
      "3/3 [==============================] - 0s 160ms/step - loss: 0.6685 - accuracy: 0.6143 - val_loss: 0.6573 - val_accuracy: 0.6333\n",
      "Epoch 7/30\n",
      "3/3 [==============================] - 0s 159ms/step - loss: 0.6680 - accuracy: 0.6143 - val_loss: 0.6572 - val_accuracy: 0.6333\n",
      "Epoch 8/30\n",
      "3/3 [==============================] - 0s 155ms/step - loss: 0.6675 - accuracy: 0.6143 - val_loss: 0.6572 - val_accuracy: 0.6333\n",
      "Epoch 9/30\n",
      "3/3 [==============================] - 0s 152ms/step - loss: 0.6675 - accuracy: 0.6143 - val_loss: 0.6572 - val_accuracy: 0.6333\n",
      "Epoch 10/30\n",
      "3/3 [==============================] - 0s 152ms/step - loss: 0.6670 - accuracy: 0.6143 - val_loss: 0.6573 - val_accuracy: 0.6333\n",
      "Epoch 11/30\n",
      "3/3 [==============================] - 0s 159ms/step - loss: 0.6684 - accuracy: 0.6143 - val_loss: 0.6577 - val_accuracy: 0.6333\n",
      "Epoch 12/30\n",
      "3/3 [==============================] - 0s 160ms/step - loss: 0.6688 - accuracy: 0.6143 - val_loss: 0.6580 - val_accuracy: 0.6333\n",
      "Epoch 13/30\n",
      "3/3 [==============================] - 0s 155ms/step - loss: 0.6695 - accuracy: 0.6143 - val_loss: 0.6581 - val_accuracy: 0.6333\n",
      "Epoch 14/30\n",
      "3/3 [==============================] - 0s 160ms/step - loss: 0.6704 - accuracy: 0.6143 - val_loss: 0.6579 - val_accuracy: 0.6333\n",
      "Epoch 15/30\n",
      "3/3 [==============================] - 0s 155ms/step - loss: 0.6693 - accuracy: 0.6143 - val_loss: 0.6580 - val_accuracy: 0.6333\n",
      "Epoch 16/30\n",
      "3/3 [==============================] - 0s 147ms/step - loss: 0.6696 - accuracy: 0.6143 - val_loss: 0.6579 - val_accuracy: 0.6333\n",
      "Epoch 17/30\n",
      "3/3 [==============================] - 0s 158ms/step - loss: 0.6689 - accuracy: 0.6143 - val_loss: 0.6573 - val_accuracy: 0.6333\n",
      "Epoch 18/30\n",
      "3/3 [==============================] - 0s 159ms/step - loss: 0.6687 - accuracy: 0.6143 - val_loss: 0.6572 - val_accuracy: 0.6333\n",
      "Epoch 19/30\n",
      "3/3 [==============================] - 0s 151ms/step - loss: 0.6667 - accuracy: 0.6143 - val_loss: 0.6574 - val_accuracy: 0.6333\n",
      "Epoch 20/30\n",
      "3/3 [==============================] - 0s 155ms/step - loss: 0.6674 - accuracy: 0.6143 - val_loss: 0.6577 - val_accuracy: 0.6333\n",
      "Epoch 21/30\n",
      "3/3 [==============================] - 0s 156ms/step - loss: 0.6671 - accuracy: 0.6143 - val_loss: 0.6575 - val_accuracy: 0.6333\n",
      "Epoch 22/30\n",
      "3/3 [==============================] - 0s 151ms/step - loss: 0.6668 - accuracy: 0.6143 - val_loss: 0.6576 - val_accuracy: 0.6333\n",
      "Epoch 23/30\n",
      "3/3 [==============================] - 0s 155ms/step - loss: 0.6667 - accuracy: 0.6143 - val_loss: 0.6580 - val_accuracy: 0.6333\n",
      "Epoch 24/30\n",
      "3/3 [==============================] - 0s 159ms/step - loss: 0.6677 - accuracy: 0.6143 - val_loss: 0.6587 - val_accuracy: 0.6333\n",
      "Epoch 25/30\n",
      "3/3 [==============================] - 0s 158ms/step - loss: 0.6672 - accuracy: 0.6143 - val_loss: 0.6585 - val_accuracy: 0.6333\n",
      "Epoch 26/30\n",
      "3/3 [==============================] - 0s 148ms/step - loss: 0.6669 - accuracy: 0.6143 - val_loss: 0.6580 - val_accuracy: 0.6333\n",
      "Epoch 27/30\n",
      "3/3 [==============================] - 0s 148ms/step - loss: 0.6668 - accuracy: 0.6143 - val_loss: 0.6578 - val_accuracy: 0.6333\n",
      "Epoch 28/30\n",
      "3/3 [==============================] - 0s 148ms/step - loss: 0.6668 - accuracy: 0.6143 - val_loss: 0.6575 - val_accuracy: 0.6333\n",
      "Epoch 29/30\n",
      "3/3 [==============================] - 0s 151ms/step - loss: 0.6664 - accuracy: 0.6143 - val_loss: 0.6572 - val_accuracy: 0.6333\n",
      "Epoch 30/30\n",
      "3/3 [==============================] - 0s 152ms/step - loss: 0.6667 - accuracy: 0.6143 - val_loss: 0.6573 - val_accuracy: 0.6333\n",
      "1/1 [==============================] - 0s 49ms/step - loss: 0.6573 - accuracy: 0.6333\n",
      "Test Loss: 0.6573, Test Accuracy: 0.6333\n",
      "--------------------------------------------\n",
      "Model  CNN\n",
      "1/1 [==============================] - 0s 106ms/step\n",
      "              precision    recall  f1-score   support\n",
      "\n",
      "           0       0.00      0.00      0.00        11\n",
      "           1       0.63      1.00      0.78        19\n",
      "\n",
      "   micro avg       0.63      0.63      0.63        30\n",
      "   macro avg       0.32      0.50      0.39        30\n",
      "weighted avg       0.40      0.63      0.49        30\n",
      " samples avg       0.63      0.63      0.63        30\n",
      "\n",
      "F1 Score  0.49115646258503404\n",
      "Recall  0.6333333333333333\n",
      "Precision  0.4011111111111111\n"
     ]
    },
    {
     "name": "stderr",
     "output_type": "stream",
     "text": [
      "c:\\Users\\prave\\AppData\\Local\\Programs\\Python\\Python311\\Lib\\site-packages\\sklearn\\metrics\\_classification.py:1469: UndefinedMetricWarning: Precision is ill-defined and being set to 0.0 in labels with no predicted samples. Use `zero_division` parameter to control this behavior.\n",
      "  _warn_prf(average, modifier, msg_start, len(result))\n",
      "c:\\Users\\prave\\AppData\\Local\\Programs\\Python\\Python311\\Lib\\site-packages\\sklearn\\metrics\\_classification.py:1469: UndefinedMetricWarning: Precision and F-score are ill-defined and being set to 0.0 in labels with no predicted samples. Use `zero_division` parameter to control this behavior.\n",
      "  _warn_prf(average, modifier, msg_start, len(result))\n"
     ]
    }
   ],
   "source": [
    "from tensorflow.keras.models import Sequential\n",
    "from tensorflow.keras.layers import Conv2D, MaxPooling2D, Flatten, Dense\n",
    "from tensorflow.keras.utils import to_categorical\n",
    "from sklearn.model_selection import train_test_split\n",
    "from tensorflow.keras.layers import Dropout, BatchNormalization\n",
    "\n",
    "dataset = dataset / 255.0\n",
    "X_train, X_test, y_train, y_test = train_test_split(dataset, labels, test_size=0.3, random_state=42)\n",
    "\n",
    "# Convert labels to categorical one-hot encoding\n",
    "y_train = to_categorical(y_train, num_classes=2)\n",
    "y_test = to_categorical(y_test, num_classes=2)\n",
    "\n",
    "model = Sequential()\n",
    "\n",
    "model.add(Conv2D(64, (3, 3), activation='relu', input_shape=(64, 64, 3)))\n",
    "model.add(MaxPooling2D((2, 2)))\n",
    "\n",
    "model.add(Conv2D(128, (3, 3), activation='relu'))\n",
    "model.add(MaxPooling2D((2, 2)))\n",
    "\n",
    "model.add(Conv2D(256, (3, 3), activation='relu'))\n",
    "model.add(MaxPooling2D((2, 2)))\n",
    "\n",
    "model.add(Flatten())\n",
    "model.add(Dense(512, activation='relu'))\n",
    "model.add(BatchNormalization())\n",
    "\n",
    "model.add(Dense(2, activation='softmax'))\n",
    "\n",
    "model.compile(optimizer='adam', loss='categorical_crossentropy', metrics=['accuracy'])\n",
    "\n",
    "model.fit(X_train, y_train, epochs=30, batch_size=32, validation_data=(X_test, y_test))\n",
    "\n",
    "loss, accuracy = model.evaluate(X_test, y_test)\n",
    "print(f'Test Loss: {loss:.4f}, Test Accuracy: {accuracy:.4f}')\n",
    "\n",
    "evaluate_model(model,X_test,y_test,\"CNN\")\n"
   ]
  },
  {
   "cell_type": "code",
   "execution_count": null,
   "metadata": {},
   "outputs": [],
   "source": [
    "# from tensorflow.keras.models import Sequential\n",
    "# from tensorflow.keras.layers import LSTM, Dense\n",
    "# from tensorflow.keras.utils import to_categorical\n",
    "# from sklearn.model_selection import train_test_split\n",
    "# import numpy as np\n",
    "\n",
    "#  # Reshape data for LSTM\n",
    "# time_steps = X_train.shape[1] \n",
    "# features = X_train.shape[2]\n",
    "\n",
    "# print(time_steps,features)\n",
    "# # Reshape X_train and X_test\n",
    "# X_train_reshaped = X_train.reshape((X_train.shape[0], time_steps, features))\n",
    "# X_test_reshaped = X_test.reshape((X_test.shape[0], time_steps, features))\n",
    "\n",
    "# print(X_train_reshaped,X_test_reshaped)\n",
    "\n",
    "# # Build the LSTM model\n",
    "# lstm_model = Sequential()\n",
    "\n",
    "# lstm_model.add(LSTM(64, input_shape=(time_steps,features), activation='relu'))\n",
    "# lstm_model.add(Dense(2, activation='softmax'))\n",
    "\n",
    "# # Compile the model\n",
    "# lstm_model.compile(optimizer='adam', loss='categorical_crossentropy', metrics=['accuracy'])\n",
    "\n",
    "# # Train the model\n",
    "# lstm_model.fit(X_train_reshaped, y_train, epochs=30, batch_size=32, validation_data=(X_test_reshaped, y_test))\n",
    "\n",
    "# # Evaluate the model on the test set\n",
    "# loss_lstm, accuracy_lstm = lstm_model.evaluate(X_test_reshaped, y_test)\n",
    "# print(f'Test Loss: {loss_lstm:.4f}, Test Accuracy: {accuracy_lstm:.4f}')\n",
    "\n",
    "\n"
   ]
  }
 ],
 "metadata": {
  "kernelspec": {
   "display_name": "Python 3",
   "language": "python",
   "name": "python3"
  },
  "language_info": {
   "codemirror_mode": {
    "name": "ipython",
    "version": 3
   },
   "file_extension": ".py",
   "mimetype": "text/x-python",
   "name": "python",
   "nbconvert_exporter": "python",
   "pygments_lexer": "ipython3",
   "version": "3.11.4"
  }
 },
 "nbformat": 4,
 "nbformat_minor": 2
}
