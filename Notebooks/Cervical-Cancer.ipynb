{
 "cells": [
  {
   "cell_type": "markdown",
   "metadata": {},
   "source": [
    "FOR CERVICAL CANCER PREDICTION"
   ]
  },
  {
   "cell_type": "code",
   "execution_count": 1,
   "metadata": {},
   "outputs": [],
   "source": [
    "import numpy as np\n",
    "import pandas as pd\n",
    "import seaborn as sns\n",
    "from scipy.stats import pearsonr\n",
    "import matplotlib.pyplot as plt\n",
    "from sklearn.metrics import classification_report\n",
    "from sklearn.model_selection import train_test_split\n",
    "from sklearn.tree import DecisionTreeClassifier\n",
    "from sklearn.model_selection import cross_val_score\n",
    "from sklearn.preprocessing import StandardScaler\n",
    "import joblib\n",
    "import warnings\n",
    "warnings.filterwarnings(\"ignore\")"
   ]
  },
  {
   "cell_type": "markdown",
   "metadata": {},
   "source": [
    "READING THE DATASET"
   ]
  },
  {
   "cell_type": "code",
   "execution_count": 2,
   "metadata": {},
   "outputs": [],
   "source": [
    "df = pd.read_csv(\"../Dataset/kag_risk_factors_cervical_cancer.csv\")\n"
   ]
  },
  {
   "cell_type": "markdown",
   "metadata": {},
   "source": [
    "PREPROCESSING THE DATA"
   ]
  },
  {
   "cell_type": "code",
   "execution_count": 3,
   "metadata": {},
   "outputs": [],
   "source": [
    "df=df.drop(['STDs: Time since first diagnosis'], axis = 1)\n",
    "df = df.drop(['STDs: Time since last diagnosis'], axis = 1)\n",
    "df = df.replace('?', np.nan)\n",
    "df=df.drop_duplicates()\n",
    "df = df.apply(pd.to_numeric, errors='coerce')"
   ]
  },
  {
   "cell_type": "code",
   "execution_count": 4,
   "metadata": {},
   "outputs": [],
   "source": [
    "df['Number of sexual partners'] = df['Number of sexual partners'].fillna(df['Number of sexual partners'].median())\n",
    "df['First sexual intercourse'] = df['First sexual intercourse'].fillna(df['First sexual intercourse'].median())\n",
    "df['Num of pregnancies'] = df['Num of pregnancies'].fillna(df['Num of pregnancies'].median())\n",
    "df['Smokes'] = df['Smokes'].fillna(1)\n",
    "df['Smokes (years)'] = df['Smokes (years)'].fillna(df['Smokes (years)'].median())\n",
    "df['Smokes (packs/year)'] = df['Smokes (packs/year)'].fillna(df['Smokes (packs/year)'].median())\n",
    "df['Hormonal Contraceptives'] = df['Hormonal Contraceptives'].fillna(1)\n",
    "df['Hormonal Contraceptives (years)'] = df['Hormonal Contraceptives (years)'].fillna(df['Hormonal Contraceptives (years)'].median())\n",
    "df['IUD'] = df['IUD'].fillna(0)\n",
    "df['IUD (years)'] = df['IUD (years)'].fillna(0)\n",
    "df['STDs'] = df['STDs'].fillna(1)\n",
    "df['STDs (number)'] = df['STDs (number)'].fillna(df['STDs (number)'].median())\n",
    "df['STDs:condylomatosis'] = df['STDs:condylomatosis'].fillna(df['STDs:condylomatosis'].median())\n",
    "df['STDs:cervical condylomatosis'] = df['STDs:cervical condylomatosis'].fillna(df['STDs:cervical condylomatosis'].median())\n",
    "df['STDs:vaginal condylomatosis'] = df['STDs:vaginal condylomatosis'].fillna(df['STDs:vaginal condylomatosis'].median())\n",
    "df['STDs:vulvo-perineal condylomatosis'] = df['STDs:vulvo-perineal condylomatosis'].fillna(df['STDs:vulvo-perineal condylomatosis'].median())\n",
    "df['STDs:syphilis'] = df['STDs:syphilis'].fillna(df['STDs:syphilis'].median())\n",
    "df['STDs:pelvic inflammatory disease'] = df['STDs:pelvic inflammatory disease'].fillna(df['STDs:pelvic inflammatory disease'].median())\n",
    "df['STDs:genital herpes'] = df['STDs:genital herpes'].fillna(df['STDs:genital herpes'].median())\n",
    "df['STDs:molluscum contagiosum'] = df['STDs:molluscum contagiosum'].fillna(df['STDs:molluscum contagiosum'].median())\n",
    "df['STDs:AIDS'] = df['STDs:AIDS'].fillna(df['STDs:AIDS'].median())\n",
    "df['STDs:HIV'] = df['STDs:HIV'].fillna(df['STDs:HIV'].median())\n",
    "df['STDs:Hepatitis B'] = df['STDs:Hepatitis B'].fillna(df['STDs:Hepatitis B'].median())\n",
    "df['STDs:HPV'] = df['STDs:HPV'].fillna(df['STDs:HPV'].median())"
   ]
  },
  {
   "cell_type": "markdown",
   "metadata": {},
   "source": [
    "DEFINING THE INPUT AND OUTPUT COLUMNS"
   ]
  },
  {
   "cell_type": "code",
   "execution_count": 5,
   "metadata": {},
   "outputs": [],
   "source": [
    "y = df[\"Biopsy\"]\n",
    "X = df.drop([\"Biopsy\"], axis = 1)"
   ]
  },
  {
   "cell_type": "markdown",
   "metadata": {},
   "source": [
    "SPLITTING THE DATASET INTO TEST AND TRAINING"
   ]
  },
  {
   "cell_type": "code",
   "execution_count": 6,
   "metadata": {},
   "outputs": [],
   "source": [
    "X_train, X_test, y_train, y_test = train_test_split(X, y, test_size = 0.25, random_state = 12)"
   ]
  },
  {
   "cell_type": "markdown",
   "metadata": {},
   "source": [
    "PERFORMING NORMALIZATION"
   ]
  },
  {
   "cell_type": "code",
   "execution_count": 7,
   "metadata": {},
   "outputs": [],
   "source": [
    "scaler = StandardScaler()\n",
    "X_train = scaler.fit_transform(X_train)\n",
    "X_test = scaler.transform(X_test)"
   ]
  },
  {
   "cell_type": "markdown",
   "metadata": {},
   "source": [
    "DECISION TREE CLASSIFIER"
   ]
  },
  {
   "cell_type": "code",
   "execution_count": 8,
   "metadata": {},
   "outputs": [
    {
     "data": {
      "text/plain": [
       "['../Models/cc_decisionclassifier']"
      ]
     },
     "execution_count": 8,
     "metadata": {},
     "output_type": "execute_result"
    }
   ],
   "source": [
    "cc_decisionclassifier = DecisionTreeClassifier(class_weight=None, criterion='gini', max_depth=2)\n",
    "cc_decisionclassifier.fit(X_train, y_train)\n",
    "joblib.dump(cc_decisionclassifier, \"../Models/cc_decisionclassifier\")"
   ]
  },
  {
   "cell_type": "code",
   "execution_count": 9,
   "metadata": {},
   "outputs": [
    {
     "name": "stdout",
     "output_type": "stream",
     "text": [
      "Decision Tree Classifier Report\n",
      "              precision    recall  f1-score   support\n",
      "\n",
      "           0       0.99      0.98      0.98       193\n",
      "           1       0.78      0.88      0.82        16\n",
      "\n",
      "    accuracy                           0.97       209\n",
      "   macro avg       0.88      0.93      0.90       209\n",
      "weighted avg       0.97      0.97      0.97       209\n",
      "\n"
     ]
    }
   ],
   "source": [
    "y_pred = cc_decisionclassifier.predict(X_test)\n",
    "print(\"Decision Tree Classifier Report\")\n",
    "print(classification_report(y_test, y_pred))"
   ]
  },
  {
   "cell_type": "markdown",
   "metadata": {},
   "source": [
    "SVM MODEL"
   ]
  },
  {
   "cell_type": "code",
   "execution_count": 10,
   "metadata": {},
   "outputs": [
    {
     "name": "stdout",
     "output_type": "stream",
     "text": [
      "SVM Model Report\n",
      "              precision    recall  f1-score   support\n",
      "\n",
      "           0       0.96      0.97      0.97       193\n",
      "           1       0.60      0.56      0.58        16\n",
      "\n",
      "    accuracy                           0.94       209\n",
      "   macro avg       0.78      0.77      0.77       209\n",
      "weighted avg       0.94      0.94      0.94       209\n",
      "\n"
     ]
    }
   ],
   "source": [
    "from sklearn.svm import SVC\n",
    "cc_svm_model = SVC(kernel='poly', C=1.0, gamma='scale', random_state=42)\n",
    "cc_svm_model.fit(X_train, y_train)\n",
    "joblib.dump(cc_svm_model,\"../Models/cc_svm_model\")\n",
    "y_pred = cc_svm_model.predict(X_test)\n",
    "print(\"SVM Model Report\")\n",
    "print(classification_report(y_test, y_pred))"
   ]
  },
  {
   "cell_type": "markdown",
   "metadata": {},
   "source": [
    "RANDOM FOREST"
   ]
  },
  {
   "cell_type": "code",
   "execution_count": 11,
   "metadata": {},
   "outputs": [
    {
     "name": "stdout",
     "output_type": "stream",
     "text": [
      "Random Forest Classification Report:\n",
      "              precision    recall  f1-score   support\n",
      "\n",
      "           0       0.97      0.98      0.97       193\n",
      "           1       0.71      0.62      0.67        16\n",
      "\n",
      "    accuracy                           0.95       209\n",
      "   macro avg       0.84      0.80      0.82       209\n",
      "weighted avg       0.95      0.95      0.95       209\n",
      "\n"
     ]
    }
   ],
   "source": [
    "from sklearn.ensemble import RandomForestClassifier\n",
    "cc_rf_model = RandomForestClassifier(n_estimators=100, random_state=42)\n",
    "cc_rf_model.fit(X_train, y_train)\n",
    "joblib.dump(cc_rf_model, \"../Models/cc_rf_model\")\n",
    "y_pred_rf = cc_rf_model.predict(X_test)\n",
    "print(\"Random Forest Classification Report:\")\n",
    "print(classification_report(y_test, y_pred_rf))\n"
   ]
  },
  {
   "cell_type": "markdown",
   "metadata": {},
   "source": [
    "KNN"
   ]
  },
  {
   "cell_type": "code",
   "execution_count": 12,
   "metadata": {},
   "outputs": [
    {
     "name": "stdout",
     "output_type": "stream",
     "text": [
      "KNN Classification Report:\n",
      "              precision    recall  f1-score   support\n",
      "\n",
      "           0       0.95      0.98      0.97       193\n",
      "           1       0.64      0.44      0.52        16\n",
      "\n",
      "    accuracy                           0.94       209\n",
      "   macro avg       0.80      0.71      0.74       209\n",
      "weighted avg       0.93      0.94      0.93       209\n",
      "\n"
     ]
    }
   ],
   "source": [
    "from sklearn.neighbors import KNeighborsClassifier\n",
    "cc_knn_model = KNeighborsClassifier(n_neighbors=5)\n",
    "cc_knn_model.fit(X_train, y_train)\n",
    "joblib.dump(cc_knn_model, \"../Models/cc_knn_model\")\n",
    "y_pred_knn = cc_knn_model.predict(X_test)\n",
    "print(\"KNN Classification Report:\")\n",
    "print(classification_report(y_test, y_pred_knn))\n"
   ]
  },
  {
   "cell_type": "markdown",
   "metadata": {},
   "source": [
    "ADA BOOST"
   ]
  },
  {
   "cell_type": "code",
   "execution_count": 13,
   "metadata": {},
   "outputs": [
    {
     "name": "stdout",
     "output_type": "stream",
     "text": [
      "AdaBoost Classification Report:\n",
      "              precision    recall  f1-score   support\n",
      "\n",
      "           0       0.96      0.98      0.97       193\n",
      "           1       0.73      0.50      0.59        16\n",
      "\n",
      "    accuracy                           0.95       209\n",
      "   macro avg       0.84      0.74      0.78       209\n",
      "weighted avg       0.94      0.95      0.94       209\n",
      "\n"
     ]
    }
   ],
   "source": [
    "from sklearn.ensemble import AdaBoostClassifier\n",
    "base_learner = DecisionTreeClassifier(max_depth=500)\n",
    "adaboost_model = AdaBoostClassifier(base_learner, n_estimators=50, random_state=42)\n",
    "adaboost_model.fit(X_train, y_train)\n",
    "joblib.dump(adaboost_model, \"../Models/cc_adaboost_model\")\n",
    "y_pred_adaboost = adaboost_model.predict(X_test)\n",
    "print(\"AdaBoost Classification Report:\")\n",
    "print(classification_report(y_test, y_pred_adaboost))\n"
   ]
  },
  {
   "cell_type": "markdown",
   "metadata": {},
   "source": [
    "VOTING CLASSIFIER"
   ]
  },
  {
   "cell_type": "code",
   "execution_count": 76,
   "metadata": {},
   "outputs": [
    {
     "name": "stdout",
     "output_type": "stream",
     "text": [
      "Voting Classifier Classification Report:\n",
      "              precision    recall  f1-score   support\n",
      "\n",
      "           0       0.96      0.98      0.97       193\n",
      "           1       0.69      0.56      0.62        16\n",
      "\n",
      "    accuracy                           0.95       209\n",
      "   macro avg       0.83      0.77      0.80       209\n",
      "weighted avg       0.94      0.95      0.94       209\n",
      "\n"
     ]
    }
   ],
   "source": [
    "from sklearn.ensemble import VotingClassifier\n",
    "\n",
    "voting_model = VotingClassifier(estimators=[\n",
    "    ('decision_tree',cc_decisionclassifier),\n",
    "    ('svm', cc_svm_model),\n",
    "    ('random_forest', cc_rf_model ),\n",
    "    ('adaboost',adaboost_model )\n",
    "], voting='hard')\n",
    "voting_model.fit(X_train, y_train)\n",
    "joblib.dump(voting_model, \"../Models/cc_voting_model\")\n",
    "y_pred_voting = voting_model.predict(X_test)\n",
    "print(\"Voting Classifier Classification Report:\")\n",
    "print(classification_report(y_test, y_pred_voting))\n"
   ]
  },
  {
   "cell_type": "markdown",
   "metadata": {},
   "source": [
    "BAGGING CLASSIFER"
   ]
  },
  {
   "cell_type": "code",
   "execution_count": 94,
   "metadata": {},
   "outputs": [
    {
     "name": "stdout",
     "output_type": "stream",
     "text": [
      "Bagging Classifier Classification Report:\n",
      "              precision    recall  f1-score   support\n",
      "\n",
      "           0       0.98      0.98      0.98       193\n",
      "           1       0.80      0.75      0.77        16\n",
      "\n",
      "    accuracy                           0.97       209\n",
      "   macro avg       0.89      0.87      0.88       209\n",
      "weighted avg       0.97      0.97      0.97       209\n",
      "\n"
     ]
    }
   ],
   "source": [
    "from sklearn.ensemble import BaggingClassifier\n",
    "base_decision_tree = DecisionTreeClassifier(max_depth=500)\n",
    "bagging_model = BaggingClassifier(base_estimator=base_decision_tree,  # Pass the instantiated base estimator\n",
    "                                  n_estimators=10,\n",
    "                                  random_state=42)\n",
    "bagging_model.fit(X_train, y_train)\n",
    "joblib.dump(bagging_model, \"../Models/cc_bagging_model\")\n",
    "y_pred_bagging = bagging_model.predict(X_test)\n",
    "print(\"Bagging Classifier Classification Report:\")\n",
    "print(classification_report(y_test, y_pred_bagging))\n"
   ]
  }
 ],
 "metadata": {
  "kernelspec": {
   "display_name": "Python 3 (ipykernel)",
   "language": "python",
   "name": "python3"
  },
  "language_info": {
   "codemirror_mode": {
    "name": "ipython",
    "version": 3
   },
   "file_extension": ".py",
   "mimetype": "text/x-python",
   "name": "python",
   "nbconvert_exporter": "python",
   "pygments_lexer": "ipython3",
   "version": "3.11.4"
  }
 },
 "nbformat": 4,
 "nbformat_minor": 4
}
